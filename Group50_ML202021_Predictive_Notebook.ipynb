{
 "cells": [
  {
   "cell_type": "markdown",
   "metadata": {},
   "source": [
    "# Machine Learning Group Project - Group 50\n",
    "## Masters in Data Science and Advanced Analytics at NOVA IMS, Lisbon"
   ]
  },
  {
   "cell_type": "markdown",
   "metadata": {},
   "source": [
    "## Group Information\n",
    "Group members: **<span style=\"color:red\">(Everyone please check and correct the names)</span><br>**\n",
    "Md. Shawkatul Islam Aziz<br>\n",
    "Md. Tahir Hossain<br>\n",
    "Philipp Metzger<br>\n",
    "Ali Sabbir<br>\n",
    "Henrique Vaz<br>"
   ]
  },
  {
   "cell_type": "markdown",
   "metadata": {},
   "source": [
    "## Import all libraries needed"
   ]
  },
  {
   "cell_type": "code",
   "execution_count": 1,
   "metadata": {},
   "outputs": [],
   "source": [
    "import os\n",
    "import pandas as pd\n",
    "import datetime"
   ]
  },
  {
   "cell_type": "markdown",
   "metadata": {},
   "source": [
    "## Load the data"
   ]
  },
  {
   "cell_type": "code",
   "execution_count": 2,
   "metadata": {},
   "outputs": [],
   "source": [
    "train = pd.read_excel(os.path.join('Data', 'Train.xlsx'), sheet_name='Sheet1')\n",
    "test = pd.read_excel(os.path.join('Data', 'Test.xlsx'), sheet_name='Sheet1')"
   ]
  },
  {
   "cell_type": "markdown",
   "metadata": {},
   "source": [
    "## First exploration of the training set"
   ]
  },
  {
   "cell_type": "code",
   "execution_count": 3,
   "metadata": {},
   "outputs": [
    {
     "data": {
      "text/html": [
       "<div>\n",
       "<style scoped>\n",
       "    .dataframe tbody tr th:only-of-type {\n",
       "        vertical-align: middle;\n",
       "    }\n",
       "\n",
       "    .dataframe tbody tr th {\n",
       "        vertical-align: top;\n",
       "    }\n",
       "\n",
       "    .dataframe thead th {\n",
       "        text-align: right;\n",
       "    }\n",
       "</style>\n",
       "<table border=\"1\" class=\"dataframe\">\n",
       "  <thead>\n",
       "    <tr style=\"text-align: right;\">\n",
       "      <th></th>\n",
       "      <th>CITIZEN_ID</th>\n",
       "      <th>Name</th>\n",
       "      <th>Birthday</th>\n",
       "      <th>Native Continent</th>\n",
       "      <th>Marital Status</th>\n",
       "      <th>Lives with</th>\n",
       "      <th>Base Area</th>\n",
       "      <th>Education Level</th>\n",
       "      <th>Years of Education</th>\n",
       "      <th>Employment Sector</th>\n",
       "      <th>Role</th>\n",
       "      <th>Working Hours per week</th>\n",
       "      <th>Money Received</th>\n",
       "      <th>Ticket Price</th>\n",
       "      <th>Income</th>\n",
       "    </tr>\n",
       "  </thead>\n",
       "  <tbody>\n",
       "    <tr>\n",
       "      <th>0</th>\n",
       "      <td>12486</td>\n",
       "      <td>Mr. Adam Glover</td>\n",
       "      <td>July 1,2003</td>\n",
       "      <td>Europe</td>\n",
       "      <td>Married</td>\n",
       "      <td>Wife</td>\n",
       "      <td>Northbury</td>\n",
       "      <td>High School + PostGraduation</td>\n",
       "      <td>13</td>\n",
       "      <td>Private Sector - Services</td>\n",
       "      <td>Repair &amp; constructions</td>\n",
       "      <td>40</td>\n",
       "      <td>0</td>\n",
       "      <td>2273</td>\n",
       "      <td>1</td>\n",
       "    </tr>\n",
       "    <tr>\n",
       "      <th>1</th>\n",
       "      <td>12487</td>\n",
       "      <td>Mr. Cameron McDonald</td>\n",
       "      <td>January 25,2006</td>\n",
       "      <td>Europe</td>\n",
       "      <td>Married</td>\n",
       "      <td>Wife</td>\n",
       "      <td>Northbury</td>\n",
       "      <td>Professional School</td>\n",
       "      <td>12</td>\n",
       "      <td>Public Sector - Others</td>\n",
       "      <td>Repair &amp; constructions</td>\n",
       "      <td>40</td>\n",
       "      <td>0</td>\n",
       "      <td>0</td>\n",
       "      <td>1</td>\n",
       "    </tr>\n",
       "    <tr>\n",
       "      <th>2</th>\n",
       "      <td>12488</td>\n",
       "      <td>Mr. Keith Davidson</td>\n",
       "      <td>May 10,2009</td>\n",
       "      <td>Europe</td>\n",
       "      <td>Married</td>\n",
       "      <td>Wife</td>\n",
       "      <td>Northbury</td>\n",
       "      <td>Professional School</td>\n",
       "      <td>12</td>\n",
       "      <td>Private Sector - Services</td>\n",
       "      <td>Sales</td>\n",
       "      <td>46</td>\n",
       "      <td>0</td>\n",
       "      <td>2321</td>\n",
       "      <td>1</td>\n",
       "    </tr>\n",
       "  </tbody>\n",
       "</table>\n",
       "</div>"
      ],
      "text/plain": [
       "   CITIZEN_ID                  Name          Birthday Native Continent  \\\n",
       "0       12486       Mr. Adam Glover       July 1,2003           Europe   \n",
       "1       12487  Mr. Cameron McDonald   January 25,2006           Europe   \n",
       "2       12488    Mr. Keith Davidson       May 10,2009           Europe   \n",
       "\n",
       "  Marital Status Lives with  Base Area               Education Level  \\\n",
       "0        Married       Wife  Northbury  High School + PostGraduation   \n",
       "1        Married       Wife  Northbury           Professional School   \n",
       "2        Married       Wife  Northbury           Professional School   \n",
       "\n",
       "   Years of Education           Employment Sector                    Role  \\\n",
       "0                  13  Private Sector - Services   Repair & constructions   \n",
       "1                  12      Public Sector - Others  Repair & constructions   \n",
       "2                  12  Private Sector - Services                    Sales   \n",
       "\n",
       "   Working Hours per week  Money Received  Ticket Price  Income  \n",
       "0                      40               0          2273       1  \n",
       "1                      40               0             0       1  \n",
       "2                      46               0          2321       1  "
      ]
     },
     "execution_count": 3,
     "metadata": {},
     "output_type": "execute_result"
    }
   ],
   "source": [
    "# Show the first three rows of 'train'\n",
    "train.head(3)"
   ]
  },
  {
   "cell_type": "code",
   "execution_count": 4,
   "metadata": {},
   "outputs": [
    {
     "data": {
      "text/plain": [
       "(22400, 15)"
      ]
     },
     "execution_count": 4,
     "metadata": {},
     "output_type": "execute_result"
    }
   ],
   "source": [
    "# Get the dimensions of 'train'\n",
    "train.shape"
   ]
  },
  {
   "cell_type": "code",
   "execution_count": 5,
   "metadata": {},
   "outputs": [
    {
     "name": "stdout",
     "output_type": "stream",
     "text": [
      "<class 'pandas.core.frame.DataFrame'>\n",
      "RangeIndex: 22400 entries, 0 to 22399\n",
      "Data columns (total 15 columns):\n",
      " #   Column                  Non-Null Count  Dtype \n",
      "---  ------                  --------------  ----- \n",
      " 0   CITIZEN_ID              22400 non-null  int64 \n",
      " 1   Name                    22400 non-null  object\n",
      " 2   Birthday                22400 non-null  object\n",
      " 3   Native Continent        22400 non-null  object\n",
      " 4   Marital Status          22400 non-null  object\n",
      " 5   Lives with              22400 non-null  object\n",
      " 6   Base Area               22400 non-null  object\n",
      " 7   Education Level         22400 non-null  object\n",
      " 8   Years of Education      22400 non-null  int64 \n",
      " 9   Employment Sector       22400 non-null  object\n",
      " 10  Role                    22400 non-null  object\n",
      " 11  Working Hours per week  22400 non-null  int64 \n",
      " 12  Money Received          22400 non-null  int64 \n",
      " 13  Ticket Price            22400 non-null  int64 \n",
      " 14  Income                  22400 non-null  int64 \n",
      "dtypes: int64(6), object(9)\n",
      "memory usage: 2.6+ MB\n"
     ]
    }
   ],
   "source": [
    "# Check the data types and check if there are missing values\n",
    "train.info()"
   ]
  },
  {
   "cell_type": "code",
   "execution_count": null,
   "metadata": {
    "scrolled": true
   },
   "outputs": [],
   "source": [
    "# Get the basic descriptive statistics on 'train'\n",
    "train.describe()"
   ]
  },
  {
   "cell_type": "markdown",
   "metadata": {},
   "source": [
    "## Transform 'Birthday' to datetime format and get the age in days relative to today"
   ]
  },
  {
   "cell_type": "code",
   "execution_count": null,
   "metadata": {},
   "outputs": [],
   "source": [
    "# Define a function that maps month names to their integers\n",
    "\n",
    "def monthToInt(monthStr):\n",
    "\n",
    "    return {\n",
    "            'January' : 1,\n",
    "            'February' : 2,\n",
    "            'March' : 3,\n",
    "            'April' : 4,\n",
    "            'May' : 5,\n",
    "            'June' : 6,\n",
    "            'July' : 7,\n",
    "            'August' : 8,\n",
    "            'September' : 9, \n",
    "            'October' : 10,\n",
    "            'November' : 11,\n",
    "            'December' : 12\n",
    "    }[monthStr]"
   ]
  },
  {
   "cell_type": "code",
   "execution_count": null,
   "metadata": {},
   "outputs": [],
   "source": [
    "# Define a function that checks if a year is a leap year\n",
    "# Adapted from:\n",
    "# https://www.programiz.com/python-programming/examples/leap-year\n",
    "\n",
    "# \"A leap year is exactly divisible by 4 except for century years (years ending with 00). \n",
    "# The century year is a leap year only if it is perfectly divisible by 400.\"\n",
    "\n",
    "def is_leapyear(year):\n",
    "    if (year % 4) == 0:\n",
    "        if (year % 100) == 0:\n",
    "            if (year % 400) == 0:\n",
    "                return True\n",
    "            else:\n",
    "                return False\n",
    "        else:\n",
    "            return True\n",
    "    else:\n",
    "        return False"
   ]
  },
  {
   "cell_type": "code",
   "execution_count": null,
   "metadata": {},
   "outputs": [],
   "source": [
    "# Define a function that takes uses the information from column 'Birthday' and adds a column that contains the\n",
    "# birthdays as datetime objects and another column that contains the age of the person in days relative to today (2020)\n",
    "\n",
    "def add_Birthday_date_Age_days_rel_to_2020(df):\n",
    "    \n",
    "    # Get the year, month and day from Strings in 'Birthday'\n",
    "    split = df.Birthday.str.split(',', expand=True)\n",
    "    year = split.iloc[:,1].astype(int)\n",
    "    month_day = split.iloc[:,0].str.strip(to_strip=' ').str.split(' ', expand=True)\n",
    "    day = month_day.iloc[:,1].astype(int)\n",
    "    month = month_day.iloc[:,0]\n",
    "    \n",
    "    # Map month names to integers\n",
    "    month = month.map(lambda x:monthToInt(x))\n",
    "    \n",
    "    # Build a dataframe containing the date values\n",
    "    frame = {'year':year, 'month':month, 'day':day}\n",
    "    birthday = pd.DataFrame(frame)\n",
    "    \n",
    "    # Create datetime objects from the date values\n",
    "    # Some problems with leap years (see below)\n",
    "    birthday_date = []\n",
    "    for i in range(birthday.shape[0]):\n",
    "    \n",
    "        # Get the values for this row\n",
    "        year_i = int(birthday.iloc[i,0])\n",
    "        month_i = int(birthday.iloc[i,1])\n",
    "        day_i = int(birthday.iloc[i,2])\n",
    "\n",
    "        # Leap years are incorrectly defined for this dataset.\n",
    "        # For example row 359: year 2022, month 2, day 29 is a birthday in this datase, but in reality it does not exist.\n",
    "        # -> Decrease all days where month=2 and day=29 that aren't in a leap year by 1 day to be able to use \n",
    "        # datetime.date\n",
    "\n",
    "        # Get True if this year is a leap year, else False\n",
    "        leapyear = is_leapyear(year_i)\n",
    "\n",
    "        if (~leapyear and month_i==2 and day_i==29):\n",
    "            day_i = day_i - 1\n",
    "        date = datetime.date(year_i, month_i, day_i)\n",
    "        birthday_date.append(date)\n",
    "        \n",
    "    # Convert the list to a pandas series\n",
    "    birthday_date = pd.Series(birthday_date)\n",
    "    \n",
    "    # Insert 'birthday_date' as new column 'Birthday_date'\n",
    "    df.insert(loc=3, column='Birthday_date', value=birthday_date)\n",
    "    \n",
    "    # Compute time differences to today (2020) and keep only the value in days\n",
    "    now = date.today()\n",
    "    age = now - train.Birthday_date\n",
    "    age_days = age.dt.days\n",
    "    \n",
    "    # Insert 'age_days' as 'Age_days_rel_to_2020'\n",
    "    df.insert(loc=4, column='Age_days_rel_to_2020', value=age_days)\n",
    "    \n",
    "    # Return the resulting dataframe\n",
    "    return df"
   ]
  },
  {
   "cell_type": "code",
   "execution_count": null,
   "metadata": {},
   "outputs": [],
   "source": [
    "train_new_cols = add_Birthday_date_Age_days_rel_to_2020(train)"
   ]
  },
  {
   "cell_type": "code",
   "execution_count": null,
   "metadata": {},
   "outputs": [],
   "source": [
    "split = train.Birthday.str.split(',', expand=True)\n",
    "year = split.iloc[:,1].astype(int)"
   ]
  },
  {
   "cell_type": "code",
   "execution_count": null,
   "metadata": {},
   "outputs": [],
   "source": [
    "month_day = split.iloc[:,0].str.strip(to_strip=' ').str.split(' ', expand=True)\n",
    "month_day\n",
    "day = month_day.iloc[:,1].astype(int)"
   ]
  },
  {
   "cell_type": "code",
   "execution_count": null,
   "metadata": {},
   "outputs": [],
   "source": [
    "month = month_day.iloc[:,0]\n",
    "month"
   ]
  },
  {
   "cell_type": "code",
   "execution_count": null,
   "metadata": {},
   "outputs": [],
   "source": [
    "month = month.map(lambda x:monthToInt(x))"
   ]
  },
  {
   "cell_type": "code",
   "execution_count": null,
   "metadata": {},
   "outputs": [],
   "source": [
    "frame = {'year':year, 'month':month, 'day':day}\n",
    "birthday = pd.DataFrame(frame)\n",
    "birthday"
   ]
  },
  {
   "cell_type": "code",
   "execution_count": null,
   "metadata": {},
   "outputs": [],
   "source": [
    "birthday_date = []\n",
    "for i in range(birthday.shape[0]):\n",
    "    \n",
    "    # Get the values for this row\n",
    "    year_i = int(birthday.iloc[i,0])\n",
    "    month_i = int(birthday.iloc[i,1])\n",
    "    day_i = int(birthday.iloc[i,2])\n",
    "    \n",
    "    # Leap years are incorrectly defined for this dataset.\n",
    "    # For example row 359: year 2022, month 2, day 29 is a birthday in this datase, but in reality it does not exist.\n",
    "    # -> Decrease all days where month=2 and day=29 that aren't in a leap year by 1 day to be able to use \n",
    "    # datetime.date\n",
    "    \n",
    "    # Get True if this year is a leap year, else False\n",
    "    leapyear = is_leapyear(year_i)\n",
    "    \n",
    "    if (~leapyear and month_i==2 and day_i==29):\n",
    "        day_i = day_i - 1\n",
    "    date = datetime.date(year_i, month_i, day_i)\n",
    "    birthday_date.append(date)"
   ]
  },
  {
   "cell_type": "code",
   "execution_count": null,
   "metadata": {},
   "outputs": [],
   "source": [
    "birthday_date = pd.Series(birthday_date)\n",
    "birthday_date"
   ]
  },
  {
   "cell_type": "code",
   "execution_count": null,
   "metadata": {},
   "outputs": [],
   "source": [
    "train.insert(loc=3, column='Birthday_date', value=birthday_date)"
   ]
  },
  {
   "cell_type": "code",
   "execution_count": null,
   "metadata": {},
   "outputs": [],
   "source": [
    "now = date.today()\n",
    "age = now - train.Birthday_date\n",
    "age_days = age.dt.days\n",
    "age_days"
   ]
  },
  {
   "cell_type": "code",
   "execution_count": null,
   "metadata": {},
   "outputs": [],
   "source": [
    "train.insert(loc=4, column='Age_days_rel_to_2020', value=age_days)"
   ]
  },
  {
   "cell_type": "code",
   "execution_count": null,
   "metadata": {},
   "outputs": [],
   "source": [
    "train.head(3)"
   ]
  },
  {
   "cell_type": "code",
   "execution_count": null,
   "metadata": {
    "scrolled": true
   },
   "outputs": [],
   "source": [
    "# Compute the correlation matrix of 'train'\n",
    "train.corr(method='pearson')"
   ]
  },
  {
   "cell_type": "code",
   "execution_count": null,
   "metadata": {},
   "outputs": [],
   "source": [
    "# Identify the metric and the non-metric features\n",
    "metric_features = ['Birthday','Years of Education','Working Hours per week','Money Received','Ticket Price']\n",
    "non_metric_features = train.columns.drop(metric_features).to_list()"
   ]
  },
  {
   "cell_type": "code",
   "execution_count": null,
   "metadata": {},
   "outputs": [],
   "source": []
  }
 ],
 "metadata": {
  "kernelspec": {
   "display_name": "Python 3",
   "language": "python",
   "name": "python3"
  },
  "language_info": {
   "codemirror_mode": {
    "name": "ipython",
    "version": 3
   },
   "file_extension": ".py",
   "mimetype": "text/x-python",
   "name": "python",
   "nbconvert_exporter": "python",
   "pygments_lexer": "ipython3",
   "version": "3.8.5"
  }
 },
 "nbformat": 4,
 "nbformat_minor": 4
}
