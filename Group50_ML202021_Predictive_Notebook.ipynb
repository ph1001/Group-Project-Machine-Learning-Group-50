{
 "cells": [
  {
   "cell_type": "markdown",
   "metadata": {},
   "source": [
    "# Machine Learning Group Project - Group 50\n",
    "## Masters in Data Science and Advanced Analytics at NOVA IMS, Lisbon"
   ]
  },
  {
   "cell_type": "markdown",
   "metadata": {},
   "source": [
    "## Group Information\n",
    "Group members: **<span style=\"color:red\">(Everyone please check and correct the names)</span><br>**\n",
    "Md. Shawkatul Islam Aziz<br>\n",
    "Md. Tahir Hossain<br>\n",
    "Philipp Metzger<br>\n",
    "Ali Sabbir<br>\n",
    "Henrique Vaz<br>"
   ]
  },
  {
   "cell_type": "markdown",
   "metadata": {},
   "source": [
    "## Import all libraries needed"
   ]
  },
  {
   "cell_type": "code",
   "execution_count": 1,
   "metadata": {},
   "outputs": [],
   "source": [
    "import os\n",
    "import pandas as pd\n",
    "import datetime\n",
    "import numpy as np\n",
    "import seaborn as sns\n",
    "import matplotlib.pyplot as plt"
   ]
  },
  {
   "cell_type": "markdown",
   "metadata": {},
   "source": [
    "## Load the data"
   ]
  },
  {
   "cell_type": "code",
   "execution_count": 2,
   "metadata": {},
   "outputs": [],
   "source": [
    "train = pd.read_excel(os.path.join('Data', 'Train.xlsx'), sheet_name='Sheet1')\n",
    "test = pd.read_excel(os.path.join('Data', 'Test.xlsx'), sheet_name='Sheet1')"
   ]
  },
  {
   "cell_type": "markdown",
   "metadata": {},
   "source": [
    "## First exploration of the training set"
   ]
  },
  {
   "cell_type": "code",
   "execution_count": 3,
   "metadata": {},
   "outputs": [
    {
     "data": {
      "text/html": [
       "<div>\n",
       "<style scoped>\n",
       "    .dataframe tbody tr th:only-of-type {\n",
       "        vertical-align: middle;\n",
       "    }\n",
       "\n",
       "    .dataframe tbody tr th {\n",
       "        vertical-align: top;\n",
       "    }\n",
       "\n",
       "    .dataframe thead th {\n",
       "        text-align: right;\n",
       "    }\n",
       "</style>\n",
       "<table border=\"1\" class=\"dataframe\">\n",
       "  <thead>\n",
       "    <tr style=\"text-align: right;\">\n",
       "      <th></th>\n",
       "      <th>CITIZEN_ID</th>\n",
       "      <th>Name</th>\n",
       "      <th>Birthday</th>\n",
       "      <th>Native Continent</th>\n",
       "      <th>Marital Status</th>\n",
       "      <th>Lives with</th>\n",
       "      <th>Base Area</th>\n",
       "      <th>Education Level</th>\n",
       "      <th>Years of Education</th>\n",
       "      <th>Employment Sector</th>\n",
       "      <th>Role</th>\n",
       "      <th>Working Hours per week</th>\n",
       "      <th>Money Received</th>\n",
       "      <th>Ticket Price</th>\n",
       "      <th>Income</th>\n",
       "    </tr>\n",
       "  </thead>\n",
       "  <tbody>\n",
       "    <tr>\n",
       "      <th>0</th>\n",
       "      <td>12486</td>\n",
       "      <td>Mr. Adam Glover</td>\n",
       "      <td>July 1,2003</td>\n",
       "      <td>Europe</td>\n",
       "      <td>Married</td>\n",
       "      <td>Wife</td>\n",
       "      <td>Northbury</td>\n",
       "      <td>High School + PostGraduation</td>\n",
       "      <td>13</td>\n",
       "      <td>Private Sector - Services</td>\n",
       "      <td>Repair &amp; constructions</td>\n",
       "      <td>40</td>\n",
       "      <td>0</td>\n",
       "      <td>2273</td>\n",
       "      <td>1</td>\n",
       "    </tr>\n",
       "    <tr>\n",
       "      <th>1</th>\n",
       "      <td>12487</td>\n",
       "      <td>Mr. Cameron McDonald</td>\n",
       "      <td>January 25,2006</td>\n",
       "      <td>Europe</td>\n",
       "      <td>Married</td>\n",
       "      <td>Wife</td>\n",
       "      <td>Northbury</td>\n",
       "      <td>Professional School</td>\n",
       "      <td>12</td>\n",
       "      <td>Public Sector - Others</td>\n",
       "      <td>Repair &amp; constructions</td>\n",
       "      <td>40</td>\n",
       "      <td>0</td>\n",
       "      <td>0</td>\n",
       "      <td>1</td>\n",
       "    </tr>\n",
       "    <tr>\n",
       "      <th>2</th>\n",
       "      <td>12488</td>\n",
       "      <td>Mr. Keith Davidson</td>\n",
       "      <td>May 10,2009</td>\n",
       "      <td>Europe</td>\n",
       "      <td>Married</td>\n",
       "      <td>Wife</td>\n",
       "      <td>Northbury</td>\n",
       "      <td>Professional School</td>\n",
       "      <td>12</td>\n",
       "      <td>Private Sector - Services</td>\n",
       "      <td>Sales</td>\n",
       "      <td>46</td>\n",
       "      <td>0</td>\n",
       "      <td>2321</td>\n",
       "      <td>1</td>\n",
       "    </tr>\n",
       "  </tbody>\n",
       "</table>\n",
       "</div>"
      ],
      "text/plain": [
       "   CITIZEN_ID                  Name          Birthday Native Continent  \\\n",
       "0       12486       Mr. Adam Glover       July 1,2003           Europe   \n",
       "1       12487  Mr. Cameron McDonald   January 25,2006           Europe   \n",
       "2       12488    Mr. Keith Davidson       May 10,2009           Europe   \n",
       "\n",
       "  Marital Status Lives with  Base Area               Education Level  \\\n",
       "0        Married       Wife  Northbury  High School + PostGraduation   \n",
       "1        Married       Wife  Northbury           Professional School   \n",
       "2        Married       Wife  Northbury           Professional School   \n",
       "\n",
       "   Years of Education           Employment Sector                    Role  \\\n",
       "0                  13  Private Sector - Services   Repair & constructions   \n",
       "1                  12      Public Sector - Others  Repair & constructions   \n",
       "2                  12  Private Sector - Services                    Sales   \n",
       "\n",
       "   Working Hours per week  Money Received  Ticket Price  Income  \n",
       "0                      40               0          2273       1  \n",
       "1                      40               0             0       1  \n",
       "2                      46               0          2321       1  "
      ]
     },
     "execution_count": 3,
     "metadata": {},
     "output_type": "execute_result"
    }
   ],
   "source": [
    "# Show the first three rows of 'train'\n",
    "train.head(3)"
   ]
  },
  {
   "cell_type": "code",
   "execution_count": 4,
   "metadata": {},
   "outputs": [
    {
     "data": {
      "text/plain": [
       "(22400, 15)"
      ]
     },
     "execution_count": 4,
     "metadata": {},
     "output_type": "execute_result"
    }
   ],
   "source": [
    "# Get the dimensions of 'train'\n",
    "train.shape"
   ]
  },
  {
   "cell_type": "code",
   "execution_count": 5,
   "metadata": {},
   "outputs": [
    {
     "name": "stdout",
     "output_type": "stream",
     "text": [
      "<class 'pandas.core.frame.DataFrame'>\n",
      "RangeIndex: 22400 entries, 0 to 22399\n",
      "Data columns (total 15 columns):\n",
      " #   Column                  Non-Null Count  Dtype \n",
      "---  ------                  --------------  ----- \n",
      " 0   CITIZEN_ID              22400 non-null  int64 \n",
      " 1   Name                    22400 non-null  object\n",
      " 2   Birthday                22400 non-null  object\n",
      " 3   Native Continent        22400 non-null  object\n",
      " 4   Marital Status          22400 non-null  object\n",
      " 5   Lives with              22400 non-null  object\n",
      " 6   Base Area               22400 non-null  object\n",
      " 7   Education Level         22400 non-null  object\n",
      " 8   Years of Education      22400 non-null  int64 \n",
      " 9   Employment Sector       22400 non-null  object\n",
      " 10  Role                    22400 non-null  object\n",
      " 11  Working Hours per week  22400 non-null  int64 \n",
      " 12  Money Received          22400 non-null  int64 \n",
      " 13  Ticket Price            22400 non-null  int64 \n",
      " 14  Income                  22400 non-null  int64 \n",
      "dtypes: int64(6), object(9)\n",
      "memory usage: 2.6+ MB\n"
     ]
    }
   ],
   "source": [
    "# Check the data types and check if there are missing values\n",
    "train.info()"
   ]
  },
  {
   "cell_type": "code",
   "execution_count": 6,
   "metadata": {
    "scrolled": true
   },
   "outputs": [
    {
     "data": {
      "text/html": [
       "<div>\n",
       "<style scoped>\n",
       "    .dataframe tbody tr th:only-of-type {\n",
       "        vertical-align: middle;\n",
       "    }\n",
       "\n",
       "    .dataframe tbody tr th {\n",
       "        vertical-align: top;\n",
       "    }\n",
       "\n",
       "    .dataframe thead th {\n",
       "        text-align: right;\n",
       "    }\n",
       "</style>\n",
       "<table border=\"1\" class=\"dataframe\">\n",
       "  <thead>\n",
       "    <tr style=\"text-align: right;\">\n",
       "      <th></th>\n",
       "      <th>CITIZEN_ID</th>\n",
       "      <th>Years of Education</th>\n",
       "      <th>Working Hours per week</th>\n",
       "      <th>Money Received</th>\n",
       "      <th>Ticket Price</th>\n",
       "      <th>Income</th>\n",
       "    </tr>\n",
       "  </thead>\n",
       "  <tbody>\n",
       "    <tr>\n",
       "      <th>count</th>\n",
       "      <td>22400.000000</td>\n",
       "      <td>22400.000000</td>\n",
       "      <td>22400.000000</td>\n",
       "      <td>22400.000000</td>\n",
       "      <td>22400.000000</td>\n",
       "      <td>22400.000000</td>\n",
       "    </tr>\n",
       "    <tr>\n",
       "      <th>mean</th>\n",
       "      <td>23685.500000</td>\n",
       "      <td>13.173884</td>\n",
       "      <td>40.483795</td>\n",
       "      <td>1324.915357</td>\n",
       "      <td>109.145313</td>\n",
       "      <td>0.237098</td>\n",
       "    </tr>\n",
       "    <tr>\n",
       "      <th>std</th>\n",
       "      <td>6466.467351</td>\n",
       "      <td>2.512451</td>\n",
       "      <td>12.370921</td>\n",
       "      <td>9227.771813</td>\n",
       "      <td>500.208904</td>\n",
       "      <td>0.425313</td>\n",
       "    </tr>\n",
       "    <tr>\n",
       "      <th>min</th>\n",
       "      <td>12486.000000</td>\n",
       "      <td>2.000000</td>\n",
       "      <td>1.000000</td>\n",
       "      <td>0.000000</td>\n",
       "      <td>0.000000</td>\n",
       "      <td>0.000000</td>\n",
       "    </tr>\n",
       "    <tr>\n",
       "      <th>25%</th>\n",
       "      <td>18085.750000</td>\n",
       "      <td>12.000000</td>\n",
       "      <td>40.000000</td>\n",
       "      <td>0.000000</td>\n",
       "      <td>0.000000</td>\n",
       "      <td>0.000000</td>\n",
       "    </tr>\n",
       "    <tr>\n",
       "      <th>50%</th>\n",
       "      <td>23685.500000</td>\n",
       "      <td>13.000000</td>\n",
       "      <td>40.000000</td>\n",
       "      <td>0.000000</td>\n",
       "      <td>0.000000</td>\n",
       "      <td>0.000000</td>\n",
       "    </tr>\n",
       "    <tr>\n",
       "      <th>75%</th>\n",
       "      <td>29285.250000</td>\n",
       "      <td>15.000000</td>\n",
       "      <td>45.000000</td>\n",
       "      <td>0.000000</td>\n",
       "      <td>0.000000</td>\n",
       "      <td>0.000000</td>\n",
       "    </tr>\n",
       "    <tr>\n",
       "      <th>max</th>\n",
       "      <td>34885.000000</td>\n",
       "      <td>21.000000</td>\n",
       "      <td>99.000000</td>\n",
       "      <td>122999.000000</td>\n",
       "      <td>5358.000000</td>\n",
       "      <td>1.000000</td>\n",
       "    </tr>\n",
       "  </tbody>\n",
       "</table>\n",
       "</div>"
      ],
      "text/plain": [
       "         CITIZEN_ID  Years of Education  Working Hours per week  \\\n",
       "count  22400.000000        22400.000000            22400.000000   \n",
       "mean   23685.500000           13.173884               40.483795   \n",
       "std     6466.467351            2.512451               12.370921   \n",
       "min    12486.000000            2.000000                1.000000   \n",
       "25%    18085.750000           12.000000               40.000000   \n",
       "50%    23685.500000           13.000000               40.000000   \n",
       "75%    29285.250000           15.000000               45.000000   \n",
       "max    34885.000000           21.000000               99.000000   \n",
       "\n",
       "       Money Received  Ticket Price        Income  \n",
       "count    22400.000000  22400.000000  22400.000000  \n",
       "mean      1324.915357    109.145313      0.237098  \n",
       "std       9227.771813    500.208904      0.425313  \n",
       "min          0.000000      0.000000      0.000000  \n",
       "25%          0.000000      0.000000      0.000000  \n",
       "50%          0.000000      0.000000      0.000000  \n",
       "75%          0.000000      0.000000      0.000000  \n",
       "max     122999.000000   5358.000000      1.000000  "
      ]
     },
     "execution_count": 6,
     "metadata": {},
     "output_type": "execute_result"
    }
   ],
   "source": [
    "# Get the basic descriptive statistics on 'train'\n",
    "train.describe()"
   ]
  },
  {
   "cell_type": "markdown",
   "metadata": {},
   "source": [
    "## Transform 'Birthday' to datetime format and get the age in days relative to today"
   ]
  },
  {
   "cell_type": "code",
   "execution_count": 7,
   "metadata": {},
   "outputs": [],
   "source": [
    "# Define a function that maps month names to their integers\n",
    "\n",
    "def monthToInt(monthStr):\n",
    "\n",
    "    return {\n",
    "            'January' : 1,\n",
    "            'February' : 2,\n",
    "            'March' : 3,\n",
    "            'April' : 4,\n",
    "            'May' : 5,\n",
    "            'June' : 6,\n",
    "            'July' : 7,\n",
    "            'August' : 8,\n",
    "            'September' : 9, \n",
    "            'October' : 10,\n",
    "            'November' : 11,\n",
    "            'December' : 12\n",
    "    }[monthStr]"
   ]
  },
  {
   "cell_type": "code",
   "execution_count": 8,
   "metadata": {},
   "outputs": [],
   "source": [
    "# Define a function that checks if a year is a leap year\n",
    "# Adapted from:\n",
    "# https://www.programiz.com/python-programming/examples/leap-year\n",
    "\n",
    "# \"A leap year is exactly divisible by 4 except for century years (years ending with 00). \n",
    "# The century year is a leap year only if it is perfectly divisible by 400.\"\n",
    "\n",
    "def is_leapyear(year):\n",
    "    if (year % 4) == 0:\n",
    "        if (year % 100) == 0:\n",
    "            if (year % 400) == 0:\n",
    "                return True\n",
    "            else:\n",
    "                return False\n",
    "        else:\n",
    "            return True\n",
    "    else:\n",
    "        return False"
   ]
  },
  {
   "cell_type": "code",
   "execution_count": 9,
   "metadata": {},
   "outputs": [],
   "source": [
    "# Define a function that takes uses the information from column 'Birthday' and adds a column that contains the\n",
    "# birthdays as datetime objects and another column that contains the age of the person in days relative to today (2020)\n",
    "\n",
    "def add_Birthday_date_Age_days_rel_to_2020(df):\n",
    "    \n",
    "    # Make a copy\n",
    "    df_copy = df.copy()\n",
    "    \n",
    "    # Get the year, month and day from Strings in 'Birthday'\n",
    "    split = df_copy.Birthday.str.split(',', expand=True)\n",
    "    year = split.iloc[:,1].astype(int)\n",
    "    month_day = split.iloc[:,0].str.strip(to_strip=' ').str.split(' ', expand=True)\n",
    "    day = month_day.iloc[:,1].astype(int)\n",
    "    month = month_day.iloc[:,0]\n",
    "    \n",
    "    # Map month names to integers\n",
    "    month = month.map(lambda x:monthToInt(x))\n",
    "    \n",
    "    # Build a dataframe containing the date values\n",
    "    frame = {'year':year, 'month':month, 'day':day}\n",
    "    birthday = pd.DataFrame(frame)\n",
    "    \n",
    "    # Create datetime objects from the date values\n",
    "    # Some problems with leap years (see below)\n",
    "    birthday_date = []\n",
    "    for i in range(birthday.shape[0]):\n",
    "    \n",
    "        # Get the values for this row\n",
    "        year_i = int(birthday.iloc[i,0])\n",
    "        month_i = int(birthday.iloc[i,1])\n",
    "        day_i = int(birthday.iloc[i,2])\n",
    "\n",
    "        # Leap years are incorrectly defined for this dataset.\n",
    "        # For example row 359: year 2022, month 2, day 29 is a birthday in this datase, but in reality it does not exist.\n",
    "        # -> Decrease all days where month=2 and day=29 that aren't in a leap year by 1 day to be able to use \n",
    "        # datetime.date\n",
    "\n",
    "        # Get True if this year is a leap year, else False\n",
    "        leapyear = is_leapyear(year_i)\n",
    "\n",
    "        if (~leapyear and month_i==2 and day_i==29):\n",
    "            day_i = day_i - 1\n",
    "        date = datetime.date(year_i, month_i, day_i)\n",
    "        birthday_date.append(date)\n",
    "        \n",
    "    # Convert the list to a pandas series\n",
    "    birthday_date = pd.Series(birthday_date)\n",
    "    \n",
    "    # Insert 'birthday_date' as new column 'Birthday_date'\n",
    "    df_copy.insert(loc=3, column='Birthday_date', value=birthday_date)\n",
    "    \n",
    "    # Compute time differences to today (2020) and keep only the value in days\n",
    "    now = date.today()\n",
    "    age = now - df_copy.Birthday_date\n",
    "    age_days = age.dt.days\n",
    "    \n",
    "    # Insert 'age_days' as 'Age_days_rel_to_2020'\n",
    "    df_copy.insert(loc=4, column='Age_days_rel_to_2020', value=age_days)\n",
    "    \n",
    "    # Return the resulting dataframe\n",
    "    return df_copy"
   ]
  },
  {
   "cell_type": "code",
   "execution_count": 10,
   "metadata": {},
   "outputs": [],
   "source": [
    "# Use the function defined above to add columns 'Birthday_date' and 'Age_days_rel_to_2020' to 'train'\n",
    "train_2 = add_Birthday_date_Age_days_rel_to_2020(train)"
   ]
  },
  {
   "cell_type": "code",
   "execution_count": 11,
   "metadata": {},
   "outputs": [],
   "source": [
    "# Drop columns 'Birthday' and 'Birthday_date'\n",
    "train_2 = train_2.drop(columns=['Birthday', 'Birthday_date'])"
   ]
  },
  {
   "cell_type": "code",
   "execution_count": 12,
   "metadata": {},
   "outputs": [
    {
     "data": {
      "text/html": [
       "<div>\n",
       "<style scoped>\n",
       "    .dataframe tbody tr th:only-of-type {\n",
       "        vertical-align: middle;\n",
       "    }\n",
       "\n",
       "    .dataframe tbody tr th {\n",
       "        vertical-align: top;\n",
       "    }\n",
       "\n",
       "    .dataframe thead th {\n",
       "        text-align: right;\n",
       "    }\n",
       "</style>\n",
       "<table border=\"1\" class=\"dataframe\">\n",
       "  <thead>\n",
       "    <tr style=\"text-align: right;\">\n",
       "      <th></th>\n",
       "      <th>CITIZEN_ID</th>\n",
       "      <th>Name</th>\n",
       "      <th>Age_days_rel_to_2020</th>\n",
       "      <th>Native Continent</th>\n",
       "      <th>Marital Status</th>\n",
       "      <th>Lives with</th>\n",
       "      <th>Base Area</th>\n",
       "      <th>Education Level</th>\n",
       "      <th>Years of Education</th>\n",
       "      <th>Employment Sector</th>\n",
       "      <th>Role</th>\n",
       "      <th>Working Hours per week</th>\n",
       "      <th>Money Received</th>\n",
       "      <th>Ticket Price</th>\n",
       "      <th>Income</th>\n",
       "    </tr>\n",
       "  </thead>\n",
       "  <tbody>\n",
       "    <tr>\n",
       "      <th>0</th>\n",
       "      <td>12486</td>\n",
       "      <td>Mr. Adam Glover</td>\n",
       "      <td>6354</td>\n",
       "      <td>Europe</td>\n",
       "      <td>Married</td>\n",
       "      <td>Wife</td>\n",
       "      <td>Northbury</td>\n",
       "      <td>High School + PostGraduation</td>\n",
       "      <td>13</td>\n",
       "      <td>Private Sector - Services</td>\n",
       "      <td>Repair &amp; constructions</td>\n",
       "      <td>40</td>\n",
       "      <td>0</td>\n",
       "      <td>2273</td>\n",
       "      <td>1</td>\n",
       "    </tr>\n",
       "    <tr>\n",
       "      <th>1</th>\n",
       "      <td>12487</td>\n",
       "      <td>Mr. Cameron McDonald</td>\n",
       "      <td>5415</td>\n",
       "      <td>Europe</td>\n",
       "      <td>Married</td>\n",
       "      <td>Wife</td>\n",
       "      <td>Northbury</td>\n",
       "      <td>Professional School</td>\n",
       "      <td>12</td>\n",
       "      <td>Public Sector - Others</td>\n",
       "      <td>Repair &amp; constructions</td>\n",
       "      <td>40</td>\n",
       "      <td>0</td>\n",
       "      <td>0</td>\n",
       "      <td>1</td>\n",
       "    </tr>\n",
       "    <tr>\n",
       "      <th>2</th>\n",
       "      <td>12488</td>\n",
       "      <td>Mr. Keith Davidson</td>\n",
       "      <td>4214</td>\n",
       "      <td>Europe</td>\n",
       "      <td>Married</td>\n",
       "      <td>Wife</td>\n",
       "      <td>Northbury</td>\n",
       "      <td>Professional School</td>\n",
       "      <td>12</td>\n",
       "      <td>Private Sector - Services</td>\n",
       "      <td>Sales</td>\n",
       "      <td>46</td>\n",
       "      <td>0</td>\n",
       "      <td>2321</td>\n",
       "      <td>1</td>\n",
       "    </tr>\n",
       "  </tbody>\n",
       "</table>\n",
       "</div>"
      ],
      "text/plain": [
       "   CITIZEN_ID                  Name  Age_days_rel_to_2020 Native Continent  \\\n",
       "0       12486       Mr. Adam Glover                  6354           Europe   \n",
       "1       12487  Mr. Cameron McDonald                  5415           Europe   \n",
       "2       12488    Mr. Keith Davidson                  4214           Europe   \n",
       "\n",
       "  Marital Status Lives with  Base Area               Education Level  \\\n",
       "0        Married       Wife  Northbury  High School + PostGraduation   \n",
       "1        Married       Wife  Northbury           Professional School   \n",
       "2        Married       Wife  Northbury           Professional School   \n",
       "\n",
       "   Years of Education           Employment Sector                    Role  \\\n",
       "0                  13  Private Sector - Services   Repair & constructions   \n",
       "1                  12      Public Sector - Others  Repair & constructions   \n",
       "2                  12  Private Sector - Services                    Sales   \n",
       "\n",
       "   Working Hours per week  Money Received  Ticket Price  Income  \n",
       "0                      40               0          2273       1  \n",
       "1                      40               0             0       1  \n",
       "2                      46               0          2321       1  "
      ]
     },
     "execution_count": 12,
     "metadata": {},
     "output_type": "execute_result"
    }
   ],
   "source": [
    "# Check the result\n",
    "train_2.head(3)"
   ]
  },
  {
   "cell_type": "markdown",
   "metadata": {},
   "source": [
    "## Compute and visualise the correlations between the metric features and the target"
   ]
  },
  {
   "cell_type": "code",
   "execution_count": 13,
   "metadata": {},
   "outputs": [],
   "source": [
    "# Define metric features and target in one list\n",
    "metric_features_and_target = ['Age_days_rel_to_2020','Years of Education','Working Hours per week','Money Received','Ticket Price','Income']"
   ]
  },
  {
   "cell_type": "code",
   "execution_count": 14,
   "metadata": {
    "scrolled": true
   },
   "outputs": [],
   "source": [
    "# Compute the correlation matrix of 'train'\n",
    "corr_pearson = train_2[metric_features_and_target].corr(method='pearson')\n",
    "corr_spearman = train_2[metric_features_and_target].corr(method='spearman')"
   ]
  },
  {
   "cell_type": "code",
   "execution_count": 15,
   "metadata": {},
   "outputs": [
    {
     "data": {
      "image/png": "[encoded data removed]",
      "text/plain": [
       "<Figure size 720x576 with 2 Axes>"
      ]
     },
     "metadata": {
      "needs_background": "light"
     },
     "output_type": "display_data"
    }
   ],
   "source": [
    "# Adapted from data mining lab 4:\n",
    "\n",
    "# Prepare figure\n",
    "fig = plt.figure(figsize=(10, 8))\n",
    "\n",
    "# Round the values of the correlation matrix\n",
    "corr_rounded = np.round(corr_pearson, decimals=2)\n",
    "\n",
    "# Build annotation matrix (values above |limit| will appear annotated in the plot)\n",
    "limit=0.001\n",
    "mask_annot = np.absolute(corr_rounded.values) >= limit\n",
    "annot = np.where(mask_annot, corr_rounded.values, np.full(corr_rounded.shape,\"\")) # Try to understand what this np.where() does\n",
    "\n",
    "# Plot heatmap of the correlation matrix\n",
    "sns.heatmap(data=corr_rounded, annot=annot, cmap=sns.diverging_palette(220, 10, as_cmap=True), \n",
    "            fmt='s', vmin=-1, vmax=1, center=0, square=True, linewidths=.5)\n",
    "\n",
    "# Layout\n",
    "fig.subplots_adjust(top=0.95)\n",
    "fig.suptitle(\"Pearson Correlation Matrix of Metric Features\", fontsize=20)\n",
    "\n",
    "plt.show()"
   ]
  },
  {
   "cell_type": "code",
   "execution_count": 16,
   "metadata": {},
   "outputs": [
    {
     "data": {
      "image/png": "[encoded data removed]",
      "text/plain": [
       "<Figure size 720x576 with 2 Axes>"
      ]
     },
     "metadata": {
      "needs_background": "light"
     },
     "output_type": "display_data"
    }
   ],
   "source": [
    "# Adapted from data mining lab 4:\n",
    "\n",
    "# Prepare figure\n",
    "fig = plt.figure(figsize=(10, 8))\n",
    "\n",
    "# Round the values of the correlation matrix\n",
    "corr_rounded = np.round(corr_spearman, decimals=2)\n",
    "\n",
    "# Build annotation matrix (values above |limit| will appear annotated in the plot)\n",
    "limit=0.001\n",
    "mask_annot = np.absolute(corr_rounded.values) >= limit\n",
    "annot = np.where(mask_annot, corr_rounded.values, np.full(corr_rounded.shape,\"\")) # Try to understand what this np.where() does\n",
    "\n",
    "# Plot heatmap of the correlation matrix\n",
    "sns.heatmap(data=corr_rounded, annot=annot, cmap=sns.diverging_palette(220, 10, as_cmap=True), \n",
    "            fmt='s', vmin=-1, vmax=1, center=0, square=True, linewidths=.5)\n",
    "\n",
    "# Layout\n",
    "fig.subplots_adjust(top=0.95)\n",
    "fig.suptitle(\"Spearman Correlation Matrix of Metric Features\", fontsize=20)\n",
    "\n",
    "plt.show()"
   ]
  },
  {
   "cell_type": "markdown",
   "metadata": {},
   "source": [
    "## One-hot encode categorical features\n",
    "### One-hot encode 'Native Continent'"
   ]
  },
  {
   "cell_type": "code",
   "execution_count": 102,
   "metadata": {},
   "outputs": [],
   "source": [
    "# Define a function that replaces a column by a set of columns\n",
    "def replace_col(df, col_name, new_cols):\n",
    "    df_copy = df.copy()\n",
    "    col_index = df_copy.columns.get_loc(col_name)\n",
    "    df_copy = df_copy.drop(columns=col_name)\n",
    "    for col in range(new_cols.shape[1]):\n",
    "        df_copy.insert(loc=col_index+col, column=list(new_cols)[col], value=new_cols.iloc[:,col])\n",
    "    return df_copy    "
   ]
  },
  {
   "cell_type": "code",
   "execution_count": 103,
   "metadata": {},
   "outputs": [],
   "source": [
    "# Define a function that one-hot encodes a column\n",
    "def one_hot_encode(df, col_name, prefix):\n",
    "    \n",
    "    df_copy = df.copy()\n",
    "    \n",
    "    # Print the unique values to be one-hot encoded\n",
    "    print('Unique values to be one-hot encoded:')\n",
    "    print(pd.unique(df_copy[col_name]))\n",
    "    \n",
    "    # Compute dummy matrix\n",
    "    y = pd.get_dummies(df_copy[col_name], prefix=prefix, dtype=float)\n",
    "    \n",
    "    if False:\n",
    "        # Keeping all five variables would lead to one column being explained by the other 4 columns. Show this:\n",
    "        a=y.iloc[:,0]+y.iloc[:,1]+y.iloc[:,2]+y.iloc[:,3]\n",
    "        b=y.iloc[:,4]\n",
    "        print()\n",
    "        print('Correlation matrix of the dummy features matrix:')\n",
    "        print(np.corrcoef(a.values,b.values))\n",
    "    \n",
    "    # Discard the last dummy column \n",
    "    y = y.drop(list(y)[y.shape[1]-1], axis=1)\n",
    "    \n",
    "    # Print the column that was discarded\n",
    "    print()\n",
    "    print('Column dropped (Case for which all dummy values = 0):')\n",
    "    print(list(y)[y.shape[1]-1])\n",
    "    \n",
    "    # Use 'replace_col'\n",
    "    df_copy = replace_col(df_copy, col_name, y)\n",
    "    \n",
    "    # Return the result\n",
    "    return df_copy"
   ]
  },
  {
   "cell_type": "code",
   "execution_count": 104,
   "metadata": {},
   "outputs": [
    {
     "name": "stdout",
     "output_type": "stream",
     "text": [
      "Unique values to be one-hot encoded:\n",
      "['Europe' 'Africa' 'Asia' 'America' 'Oceania']\n",
      "\n",
      "Column dropped (Case for which all dummy values = 0):\n",
      "Continent_Europe\n"
     ]
    }
   ],
   "source": [
    "# Use 'one_hot_encode' on 'Native Continent'\n",
    "train_3 = one_hot_encode(train_2, 'Native Continent', 'Continent')"
   ]
  },
  {
   "cell_type": "code",
   "execution_count": 105,
   "metadata": {},
   "outputs": [
    {
     "data": {
      "text/plain": [
       "['CITIZEN_ID',\n",
       " 'Name',\n",
       " 'Age_days_rel_to_2020',\n",
       " 'Continent_Africa',\n",
       " 'Continent_America',\n",
       " 'Continent_Asia',\n",
       " 'Continent_Europe',\n",
       " 'Marital Status',\n",
       " 'Lives with',\n",
       " 'Base Area',\n",
       " 'Education Level',\n",
       " 'Years of Education',\n",
       " 'Employment Sector',\n",
       " 'Role',\n",
       " 'Working Hours per week',\n",
       " 'Money Received',\n",
       " 'Ticket Price',\n",
       " 'Income']"
      ]
     },
     "execution_count": 105,
     "metadata": {},
     "output_type": "execute_result"
    }
   ],
   "source": [
    "# Print the column labels of the resulting dataframe\n",
    "list(train_3)"
   ]
  },
  {
   "cell_type": "code",
   "execution_count": 106,
   "metadata": {},
   "outputs": [
    {
     "name": "stdout",
     "output_type": "stream",
     "text": [
      "Unique values to be one-hot encoded:\n",
      "['Married' 'Single' 'Married - Spouse Missing' 'Divorced' 'Separated'\n",
      " 'Widow' 'Married - Spouse in the Army']\n",
      "\n",
      "Column dropped (Case for which all dummy values = 0):\n",
      "Marital_Status_Single\n"
     ]
    }
   ],
   "source": [
    "# Use 'one_hot_encode' on 'Native Continent'\n",
    "train_4 = one_hot_encode(train_3, 'Marital Status', 'Marital_Status')"
   ]
  },
  {
   "cell_type": "code",
   "execution_count": 107,
   "metadata": {},
   "outputs": [
    {
     "data": {
      "text/plain": [
       "['CITIZEN_ID',\n",
       " 'Name',\n",
       " 'Age_days_rel_to_2020',\n",
       " 'Continent_Africa',\n",
       " 'Continent_America',\n",
       " 'Continent_Asia',\n",
       " 'Continent_Europe',\n",
       " 'Marital_Status_Divorced',\n",
       " 'Marital_Status_Married',\n",
       " 'Marital_Status_Married - Spouse Missing',\n",
       " 'Marital_Status_Married - Spouse in the Army',\n",
       " 'Marital_Status_Separated',\n",
       " 'Marital_Status_Single',\n",
       " 'Lives with',\n",
       " 'Base Area',\n",
       " 'Education Level',\n",
       " 'Years of Education',\n",
       " 'Employment Sector',\n",
       " 'Role',\n",
       " 'Working Hours per week',\n",
       " 'Money Received',\n",
       " 'Ticket Price',\n",
       " 'Income']"
      ]
     },
     "execution_count": 107,
     "metadata": {},
     "output_type": "execute_result"
    }
   ],
   "source": [
    "# Print the column labels of the resulting dataframe\n",
    "list(train_4)"
   ]
  },
  {
   "cell_type": "code",
   "execution_count": 108,
   "metadata": {},
   "outputs": [
    {
     "name": "stdout",
     "output_type": "stream",
     "text": [
      "Unique values to be one-hot encoded:\n",
      "['Wife' 'Other Family' 'Children' 'Other relatives' 'Alone' 'Husband']\n",
      "\n",
      "Column dropped (Case for which all dummy values = 0):\n",
      "Lives_with_Other relatives\n"
     ]
    }
   ],
   "source": [
    "# Use 'one_hot_encode' on 'Lives with'\n",
    "train_5 = one_hot_encode(train_4, 'Lives with', 'Lives_with')"
   ]
  },
  {
   "cell_type": "code",
   "execution_count": 109,
   "metadata": {},
   "outputs": [
    {
     "data": {
      "text/plain": [
       "['CITIZEN_ID',\n",
       " 'Name',\n",
       " 'Age_days_rel_to_2020',\n",
       " 'Continent_Africa',\n",
       " 'Continent_America',\n",
       " 'Continent_Asia',\n",
       " 'Continent_Europe',\n",
       " 'Marital_Status_Divorced',\n",
       " 'Marital_Status_Married',\n",
       " 'Marital_Status_Married - Spouse Missing',\n",
       " 'Marital_Status_Married - Spouse in the Army',\n",
       " 'Marital_Status_Separated',\n",
       " 'Marital_Status_Single',\n",
       " 'Lives_with_Alone',\n",
       " 'Lives_with_Children',\n",
       " 'Lives_with_Husband',\n",
       " 'Lives_with_Other Family',\n",
       " 'Lives_with_Other relatives',\n",
       " 'Base Area',\n",
       " 'Education Level',\n",
       " 'Years of Education',\n",
       " 'Employment Sector',\n",
       " 'Role',\n",
       " 'Working Hours per week',\n",
       " 'Money Received',\n",
       " 'Ticket Price',\n",
       " 'Income']"
      ]
     },
     "execution_count": 109,
     "metadata": {},
     "output_type": "execute_result"
    }
   ],
   "source": [
    "# Print the column labels of the resulting dataframe\n",
    "list(train_5)"
   ]
  },
  {
   "cell_type": "code",
   "execution_count": 110,
   "metadata": {},
   "outputs": [
    {
     "name": "stdout",
     "output_type": "stream",
     "text": [
      "Unique values to be one-hot encoded:\n",
      "['Northbury' 'Auchenshuggle' 'Sharnwick' 'Laewaes' 'MillerVille' '?'\n",
      " 'Fanfoss' 'Wigston' \"Knife's Edge\" 'Aerilon' 'Watford' 'Lanercost'\n",
      " 'Bellmoral' 'Marnmouth' 'Bellenau' 'Butterpond' 'Laenteglos' 'Tranmere'\n",
      " 'Eelry' 'Alverton' 'Pran' 'Willesden' \"King's Watch\" 'Kald' 'Kirkwall'\n",
      " \"Fool's March\" 'Middlesbrough' 'Orilon' 'Aroonshire' 'Aberuthven'\n",
      " 'Sharpton' 'Lewes' 'Mensfield' 'Cherrytown' 'Redwick Bush' 'Drumchapel'\n",
      " 'Carlisle' 'Conriston' 'Woodpine' 'Ironforge']\n",
      "\n",
      "Column dropped (Case for which all dummy values = 0):\n",
      "Base_Area_Willesden\n"
     ]
    }
   ],
   "source": [
    "# Use 'one_hot_encode' on 'Base Area'\n",
    "train_6 = one_hot_encode(train_5, 'Base Area', 'Base_Area')"
   ]
  },
  {
   "cell_type": "code",
   "execution_count": 111,
   "metadata": {},
   "outputs": [
    {
     "data": {
      "text/plain": [
       "['CITIZEN_ID',\n",
       " 'Name',\n",
       " 'Age_days_rel_to_2020',\n",
       " 'Continent_Africa',\n",
       " 'Continent_America',\n",
       " 'Continent_Asia',\n",
       " 'Continent_Europe',\n",
       " 'Marital_Status_Divorced',\n",
       " 'Marital_Status_Married',\n",
       " 'Marital_Status_Married - Spouse Missing',\n",
       " 'Marital_Status_Married - Spouse in the Army',\n",
       " 'Marital_Status_Separated',\n",
       " 'Marital_Status_Single',\n",
       " 'Lives_with_Alone',\n",
       " 'Lives_with_Children',\n",
       " 'Lives_with_Husband',\n",
       " 'Lives_with_Other Family',\n",
       " 'Lives_with_Other relatives',\n",
       " 'Base_Area_?',\n",
       " 'Base_Area_Aberuthven',\n",
       " 'Base_Area_Aerilon',\n",
       " 'Base_Area_Alverton',\n",
       " 'Base_Area_Aroonshire',\n",
       " 'Base_Area_Auchenshuggle',\n",
       " 'Base_Area_Bellenau',\n",
       " 'Base_Area_Bellmoral',\n",
       " 'Base_Area_Butterpond',\n",
       " 'Base_Area_Carlisle',\n",
       " 'Base_Area_Cherrytown',\n",
       " 'Base_Area_Conriston',\n",
       " 'Base_Area_Drumchapel',\n",
       " 'Base_Area_Eelry',\n",
       " 'Base_Area_Fanfoss',\n",
       " \"Base_Area_Fool's March\",\n",
       " 'Base_Area_Ironforge',\n",
       " 'Base_Area_Kald',\n",
       " \"Base_Area_King's Watch\",\n",
       " 'Base_Area_Kirkwall',\n",
       " \"Base_Area_Knife's Edge\",\n",
       " 'Base_Area_Laenteglos',\n",
       " 'Base_Area_Laewaes',\n",
       " 'Base_Area_Lanercost',\n",
       " 'Base_Area_Lewes',\n",
       " 'Base_Area_Marnmouth',\n",
       " 'Base_Area_Mensfield',\n",
       " 'Base_Area_Middlesbrough',\n",
       " 'Base_Area_MillerVille',\n",
       " 'Base_Area_Northbury',\n",
       " 'Base_Area_Orilon',\n",
       " 'Base_Area_Pran',\n",
       " 'Base_Area_Redwick Bush',\n",
       " 'Base_Area_Sharnwick',\n",
       " 'Base_Area_Sharpton',\n",
       " 'Base_Area_Tranmere',\n",
       " 'Base_Area_Watford',\n",
       " 'Base_Area_Wigston',\n",
       " 'Base_Area_Willesden',\n",
       " 'Education Level',\n",
       " 'Years of Education',\n",
       " 'Employment Sector',\n",
       " 'Role',\n",
       " 'Working Hours per week',\n",
       " 'Money Received',\n",
       " 'Ticket Price',\n",
       " 'Income']"
      ]
     },
     "execution_count": 111,
     "metadata": {},
     "output_type": "execute_result"
    }
   ],
   "source": [
    "# Print the column labels of the resulting dataframe\n",
    "list(train_6)"
   ]
  },
  {
   "cell_type": "code",
   "execution_count": 112,
   "metadata": {},
   "outputs": [
    {
     "name": "stdout",
     "output_type": "stream",
     "text": [
      "Unique values to be one-hot encoded:\n",
      "['High School + PostGraduation' 'Professional School'\n",
      " 'High School - 2nd Cycle' 'PhD' 'Bachelors' 'Bachelors + PostGraduation'\n",
      " 'Masters' 'High School - 1st Cycle' 'High School Complete'\n",
      " 'Masters + PostGraduation' 'Professional School + PostGraduation'\n",
      " 'Middle School - 2nd Cycle' 'Middle School Complete'\n",
      " 'Middle School - 1st Cycle' 'Primary School' 'Preschool']\n",
      "\n",
      "Column dropped (Case for which all dummy values = 0):\n",
      "Education_Level_Professional School\n"
     ]
    }
   ],
   "source": [
    "# Use 'one_hot_encode' on 'Base Area'\n",
    "train_7 = one_hot_encode(train_6, 'Education Level', 'Education_Level')"
   ]
  },
  {
   "cell_type": "code",
   "execution_count": 113,
   "metadata": {},
   "outputs": [
    {
     "data": {
      "text/plain": [
       "['CITIZEN_ID',\n",
       " 'Name',\n",
       " 'Age_days_rel_to_2020',\n",
       " 'Continent_Africa',\n",
       " 'Continent_America',\n",
       " 'Continent_Asia',\n",
       " 'Continent_Europe',\n",
       " 'Marital_Status_Divorced',\n",
       " 'Marital_Status_Married',\n",
       " 'Marital_Status_Married - Spouse Missing',\n",
       " 'Marital_Status_Married - Spouse in the Army',\n",
       " 'Marital_Status_Separated',\n",
       " 'Marital_Status_Single',\n",
       " 'Lives_with_Alone',\n",
       " 'Lives_with_Children',\n",
       " 'Lives_with_Husband',\n",
       " 'Lives_with_Other Family',\n",
       " 'Lives_with_Other relatives',\n",
       " 'Base_Area_?',\n",
       " 'Base_Area_Aberuthven',\n",
       " 'Base_Area_Aerilon',\n",
       " 'Base_Area_Alverton',\n",
       " 'Base_Area_Aroonshire',\n",
       " 'Base_Area_Auchenshuggle',\n",
       " 'Base_Area_Bellenau',\n",
       " 'Base_Area_Bellmoral',\n",
       " 'Base_Area_Butterpond',\n",
       " 'Base_Area_Carlisle',\n",
       " 'Base_Area_Cherrytown',\n",
       " 'Base_Area_Conriston',\n",
       " 'Base_Area_Drumchapel',\n",
       " 'Base_Area_Eelry',\n",
       " 'Base_Area_Fanfoss',\n",
       " \"Base_Area_Fool's March\",\n",
       " 'Base_Area_Ironforge',\n",
       " 'Base_Area_Kald',\n",
       " \"Base_Area_King's Watch\",\n",
       " 'Base_Area_Kirkwall',\n",
       " \"Base_Area_Knife's Edge\",\n",
       " 'Base_Area_Laenteglos',\n",
       " 'Base_Area_Laewaes',\n",
       " 'Base_Area_Lanercost',\n",
       " 'Base_Area_Lewes',\n",
       " 'Base_Area_Marnmouth',\n",
       " 'Base_Area_Mensfield',\n",
       " 'Base_Area_Middlesbrough',\n",
       " 'Base_Area_MillerVille',\n",
       " 'Base_Area_Northbury',\n",
       " 'Base_Area_Orilon',\n",
       " 'Base_Area_Pran',\n",
       " 'Base_Area_Redwick Bush',\n",
       " 'Base_Area_Sharnwick',\n",
       " 'Base_Area_Sharpton',\n",
       " 'Base_Area_Tranmere',\n",
       " 'Base_Area_Watford',\n",
       " 'Base_Area_Wigston',\n",
       " 'Base_Area_Willesden',\n",
       " 'Education_Level_Bachelors',\n",
       " 'Education_Level_Bachelors + PostGraduation',\n",
       " 'Education_Level_High School + PostGraduation',\n",
       " 'Education_Level_High School - 1st Cycle',\n",
       " 'Education_Level_High School - 2nd Cycle',\n",
       " 'Education_Level_High School Complete',\n",
       " 'Education_Level_Masters',\n",
       " 'Education_Level_Masters + PostGraduation',\n",
       " 'Education_Level_Middle School - 1st Cycle',\n",
       " 'Education_Level_Middle School - 2nd Cycle',\n",
       " 'Education_Level_Middle School Complete',\n",
       " 'Education_Level_PhD',\n",
       " 'Education_Level_Preschool',\n",
       " 'Education_Level_Primary School',\n",
       " 'Education_Level_Professional School',\n",
       " 'Years of Education',\n",
       " 'Employment Sector',\n",
       " 'Role',\n",
       " 'Working Hours per week',\n",
       " 'Money Received',\n",
       " 'Ticket Price',\n",
       " 'Income']"
      ]
     },
     "execution_count": 113,
     "metadata": {},
     "output_type": "execute_result"
    }
   ],
   "source": [
    "# Print the column labels of the resulting dataframe\n",
    "list(train_7)"
   ]
  },
  {
   "cell_type": "code",
   "execution_count": 114,
   "metadata": {},
   "outputs": [
    {
     "name": "stdout",
     "output_type": "stream",
     "text": [
      "Unique values to be one-hot encoded:\n",
      "['Private Sector - Services ' 'Public Sector - Others'\n",
      " 'Self-Employed (Individual)' 'Private Sector - Others' '?'\n",
      " 'Self-Employed (Company)' 'Public Sector - Government' 'Unemployed'\n",
      " 'Never Worked']\n",
      "\n",
      "Column dropped (Case for which all dummy values = 0):\n",
      "Employment_Sector_Self-Employed (Individual)\n"
     ]
    }
   ],
   "source": [
    "# Use 'one_hot_encode' on 'Base Area'\n",
    "train_8 = one_hot_encode(train_7, 'Employment Sector', 'Employment_Sector')"
   ]
  },
  {
   "cell_type": "code",
   "execution_count": 115,
   "metadata": {},
   "outputs": [
    {
     "data": {
      "text/plain": [
       "['CITIZEN_ID',\n",
       " 'Name',\n",
       " 'Age_days_rel_to_2020',\n",
       " 'Continent_Africa',\n",
       " 'Continent_America',\n",
       " 'Continent_Asia',\n",
       " 'Continent_Europe',\n",
       " 'Marital_Status_Divorced',\n",
       " 'Marital_Status_Married',\n",
       " 'Marital_Status_Married - Spouse Missing',\n",
       " 'Marital_Status_Married - Spouse in the Army',\n",
       " 'Marital_Status_Separated',\n",
       " 'Marital_Status_Single',\n",
       " 'Lives_with_Alone',\n",
       " 'Lives_with_Children',\n",
       " 'Lives_with_Husband',\n",
       " 'Lives_with_Other Family',\n",
       " 'Lives_with_Other relatives',\n",
       " 'Base_Area_?',\n",
       " 'Base_Area_Aberuthven',\n",
       " 'Base_Area_Aerilon',\n",
       " 'Base_Area_Alverton',\n",
       " 'Base_Area_Aroonshire',\n",
       " 'Base_Area_Auchenshuggle',\n",
       " 'Base_Area_Bellenau',\n",
       " 'Base_Area_Bellmoral',\n",
       " 'Base_Area_Butterpond',\n",
       " 'Base_Area_Carlisle',\n",
       " 'Base_Area_Cherrytown',\n",
       " 'Base_Area_Conriston',\n",
       " 'Base_Area_Drumchapel',\n",
       " 'Base_Area_Eelry',\n",
       " 'Base_Area_Fanfoss',\n",
       " \"Base_Area_Fool's March\",\n",
       " 'Base_Area_Ironforge',\n",
       " 'Base_Area_Kald',\n",
       " \"Base_Area_King's Watch\",\n",
       " 'Base_Area_Kirkwall',\n",
       " \"Base_Area_Knife's Edge\",\n",
       " 'Base_Area_Laenteglos',\n",
       " 'Base_Area_Laewaes',\n",
       " 'Base_Area_Lanercost',\n",
       " 'Base_Area_Lewes',\n",
       " 'Base_Area_Marnmouth',\n",
       " 'Base_Area_Mensfield',\n",
       " 'Base_Area_Middlesbrough',\n",
       " 'Base_Area_MillerVille',\n",
       " 'Base_Area_Northbury',\n",
       " 'Base_Area_Orilon',\n",
       " 'Base_Area_Pran',\n",
       " 'Base_Area_Redwick Bush',\n",
       " 'Base_Area_Sharnwick',\n",
       " 'Base_Area_Sharpton',\n",
       " 'Base_Area_Tranmere',\n",
       " 'Base_Area_Watford',\n",
       " 'Base_Area_Wigston',\n",
       " 'Base_Area_Willesden',\n",
       " 'Education_Level_Bachelors',\n",
       " 'Education_Level_Bachelors + PostGraduation',\n",
       " 'Education_Level_High School + PostGraduation',\n",
       " 'Education_Level_High School - 1st Cycle',\n",
       " 'Education_Level_High School - 2nd Cycle',\n",
       " 'Education_Level_High School Complete',\n",
       " 'Education_Level_Masters',\n",
       " 'Education_Level_Masters + PostGraduation',\n",
       " 'Education_Level_Middle School - 1st Cycle',\n",
       " 'Education_Level_Middle School - 2nd Cycle',\n",
       " 'Education_Level_Middle School Complete',\n",
       " 'Education_Level_PhD',\n",
       " 'Education_Level_Preschool',\n",
       " 'Education_Level_Primary School',\n",
       " 'Education_Level_Professional School',\n",
       " 'Years of Education',\n",
       " 'Employment_Sector_?',\n",
       " 'Employment_Sector_Never Worked',\n",
       " 'Employment_Sector_Private Sector - Others',\n",
       " 'Employment_Sector_Private Sector - Services ',\n",
       " 'Employment_Sector_Public Sector - Government',\n",
       " 'Employment_Sector_Public Sector - Others',\n",
       " 'Employment_Sector_Self-Employed (Company)',\n",
       " 'Employment_Sector_Self-Employed (Individual)',\n",
       " 'Role',\n",
       " 'Working Hours per week',\n",
       " 'Money Received',\n",
       " 'Ticket Price',\n",
       " 'Income']"
      ]
     },
     "execution_count": 115,
     "metadata": {},
     "output_type": "execute_result"
    }
   ],
   "source": [
    "# Print the column labels of the resulting dataframe\n",
    "list(train_8)"
   ]
  },
  {
   "cell_type": "code",
   "execution_count": 116,
   "metadata": {},
   "outputs": [
    {
     "name": "stdout",
     "output_type": "stream",
     "text": [
      "Unique values to be one-hot encoded:\n",
      "['Repair & constructions' 'Sales' 'Security' 'Professor'\n",
      " 'Cleaners & Handlers' 'Other services' 'Machine Operators & Inspectors'\n",
      " 'Management' 'Administratives' 'Transports' '?' 'Agriculture and Fishing'\n",
      " 'IT' 'Household Services' 'Army']\n",
      "\n",
      "Column dropped (Case for which all dummy values = 0):\n",
      "Role_Security\n"
     ]
    }
   ],
   "source": [
    "# Use 'one_hot_encode' on 'Base Area'\n",
    "train_9 = one_hot_encode(train_8, 'Role', 'Role')"
   ]
  },
  {
   "cell_type": "code",
   "execution_count": 117,
   "metadata": {},
   "outputs": [
    {
     "data": {
      "text/plain": [
       "['CITIZEN_ID',\n",
       " 'Name',\n",
       " 'Age_days_rel_to_2020',\n",
       " 'Continent_Africa',\n",
       " 'Continent_America',\n",
       " 'Continent_Asia',\n",
       " 'Continent_Europe',\n",
       " 'Marital_Status_Divorced',\n",
       " 'Marital_Status_Married',\n",
       " 'Marital_Status_Married - Spouse Missing',\n",
       " 'Marital_Status_Married - Spouse in the Army',\n",
       " 'Marital_Status_Separated',\n",
       " 'Marital_Status_Single',\n",
       " 'Lives_with_Alone',\n",
       " 'Lives_with_Children',\n",
       " 'Lives_with_Husband',\n",
       " 'Lives_with_Other Family',\n",
       " 'Lives_with_Other relatives',\n",
       " 'Base_Area_?',\n",
       " 'Base_Area_Aberuthven',\n",
       " 'Base_Area_Aerilon',\n",
       " 'Base_Area_Alverton',\n",
       " 'Base_Area_Aroonshire',\n",
       " 'Base_Area_Auchenshuggle',\n",
       " 'Base_Area_Bellenau',\n",
       " 'Base_Area_Bellmoral',\n",
       " 'Base_Area_Butterpond',\n",
       " 'Base_Area_Carlisle',\n",
       " 'Base_Area_Cherrytown',\n",
       " 'Base_Area_Conriston',\n",
       " 'Base_Area_Drumchapel',\n",
       " 'Base_Area_Eelry',\n",
       " 'Base_Area_Fanfoss',\n",
       " \"Base_Area_Fool's March\",\n",
       " 'Base_Area_Ironforge',\n",
       " 'Base_Area_Kald',\n",
       " \"Base_Area_King's Watch\",\n",
       " 'Base_Area_Kirkwall',\n",
       " \"Base_Area_Knife's Edge\",\n",
       " 'Base_Area_Laenteglos',\n",
       " 'Base_Area_Laewaes',\n",
       " 'Base_Area_Lanercost',\n",
       " 'Base_Area_Lewes',\n",
       " 'Base_Area_Marnmouth',\n",
       " 'Base_Area_Mensfield',\n",
       " 'Base_Area_Middlesbrough',\n",
       " 'Base_Area_MillerVille',\n",
       " 'Base_Area_Northbury',\n",
       " 'Base_Area_Orilon',\n",
       " 'Base_Area_Pran',\n",
       " 'Base_Area_Redwick Bush',\n",
       " 'Base_Area_Sharnwick',\n",
       " 'Base_Area_Sharpton',\n",
       " 'Base_Area_Tranmere',\n",
       " 'Base_Area_Watford',\n",
       " 'Base_Area_Wigston',\n",
       " 'Base_Area_Willesden',\n",
       " 'Education_Level_Bachelors',\n",
       " 'Education_Level_Bachelors + PostGraduation',\n",
       " 'Education_Level_High School + PostGraduation',\n",
       " 'Education_Level_High School - 1st Cycle',\n",
       " 'Education_Level_High School - 2nd Cycle',\n",
       " 'Education_Level_High School Complete',\n",
       " 'Education_Level_Masters',\n",
       " 'Education_Level_Masters + PostGraduation',\n",
       " 'Education_Level_Middle School - 1st Cycle',\n",
       " 'Education_Level_Middle School - 2nd Cycle',\n",
       " 'Education_Level_Middle School Complete',\n",
       " 'Education_Level_PhD',\n",
       " 'Education_Level_Preschool',\n",
       " 'Education_Level_Primary School',\n",
       " 'Education_Level_Professional School',\n",
       " 'Years of Education',\n",
       " 'Employment_Sector_?',\n",
       " 'Employment_Sector_Never Worked',\n",
       " 'Employment_Sector_Private Sector - Others',\n",
       " 'Employment_Sector_Private Sector - Services ',\n",
       " 'Employment_Sector_Public Sector - Government',\n",
       " 'Employment_Sector_Public Sector - Others',\n",
       " 'Employment_Sector_Self-Employed (Company)',\n",
       " 'Employment_Sector_Self-Employed (Individual)',\n",
       " 'Role_?',\n",
       " 'Role_Administratives',\n",
       " 'Role_Agriculture and Fishing',\n",
       " 'Role_Army',\n",
       " 'Role_Cleaners & Handlers',\n",
       " 'Role_Household Services',\n",
       " 'Role_IT',\n",
       " 'Role_Machine Operators & Inspectors',\n",
       " 'Role_Management',\n",
       " 'Role_Other services',\n",
       " 'Role_Professor',\n",
       " 'Role_Repair & constructions',\n",
       " 'Role_Sales',\n",
       " 'Role_Security',\n",
       " 'Working Hours per week',\n",
       " 'Money Received',\n",
       " 'Ticket Price',\n",
       " 'Income']"
      ]
     },
     "execution_count": 117,
     "metadata": {},
     "output_type": "execute_result"
    }
   ],
   "source": [
    "# Print the column labels of the resulting dataframe\n",
    "list(train_9)"
   ]
  },
  {
   "cell_type": "code",
   "execution_count": 118,
   "metadata": {},
   "outputs": [
    {
     "data": {
      "text/html": [
       "<div>\n",
       "<style scoped>\n",
       "    .dataframe tbody tr th:only-of-type {\n",
       "        vertical-align: middle;\n",
       "    }\n",
       "\n",
       "    .dataframe tbody tr th {\n",
       "        vertical-align: top;\n",
       "    }\n",
       "\n",
       "    .dataframe thead th {\n",
       "        text-align: right;\n",
       "    }\n",
       "</style>\n",
       "<table border=\"1\" class=\"dataframe\">\n",
       "  <thead>\n",
       "    <tr style=\"text-align: right;\">\n",
       "      <th></th>\n",
       "      <th>CITIZEN_ID</th>\n",
       "      <th>Name</th>\n",
       "      <th>Age_days_rel_to_2020</th>\n",
       "      <th>Continent_Africa</th>\n",
       "      <th>Continent_America</th>\n",
       "      <th>Continent_Asia</th>\n",
       "      <th>Continent_Europe</th>\n",
       "      <th>Marital_Status_Divorced</th>\n",
       "      <th>Marital_Status_Married</th>\n",
       "      <th>Marital_Status_Married - Spouse Missing</th>\n",
       "      <th>...</th>\n",
       "      <th>Role_Management</th>\n",
       "      <th>Role_Other services</th>\n",
       "      <th>Role_Professor</th>\n",
       "      <th>Role_Repair &amp; constructions</th>\n",
       "      <th>Role_Sales</th>\n",
       "      <th>Role_Security</th>\n",
       "      <th>Working Hours per week</th>\n",
       "      <th>Money Received</th>\n",
       "      <th>Ticket Price</th>\n",
       "      <th>Income</th>\n",
       "    </tr>\n",
       "  </thead>\n",
       "  <tbody>\n",
       "    <tr>\n",
       "      <th>0</th>\n",
       "      <td>12486</td>\n",
       "      <td>Mr. Adam Glover</td>\n",
       "      <td>6354</td>\n",
       "      <td>0.0</td>\n",
       "      <td>0.0</td>\n",
       "      <td>0.0</td>\n",
       "      <td>1.0</td>\n",
       "      <td>0.0</td>\n",
       "      <td>1.0</td>\n",
       "      <td>0.0</td>\n",
       "      <td>...</td>\n",
       "      <td>0.0</td>\n",
       "      <td>0.0</td>\n",
       "      <td>0.0</td>\n",
       "      <td>1.0</td>\n",
       "      <td>0.0</td>\n",
       "      <td>0.0</td>\n",
       "      <td>40</td>\n",
       "      <td>0</td>\n",
       "      <td>2273</td>\n",
       "      <td>1</td>\n",
       "    </tr>\n",
       "    <tr>\n",
       "      <th>1</th>\n",
       "      <td>12487</td>\n",
       "      <td>Mr. Cameron McDonald</td>\n",
       "      <td>5415</td>\n",
       "      <td>0.0</td>\n",
       "      <td>0.0</td>\n",
       "      <td>0.0</td>\n",
       "      <td>1.0</td>\n",
       "      <td>0.0</td>\n",
       "      <td>1.0</td>\n",
       "      <td>0.0</td>\n",
       "      <td>...</td>\n",
       "      <td>0.0</td>\n",
       "      <td>0.0</td>\n",
       "      <td>0.0</td>\n",
       "      <td>1.0</td>\n",
       "      <td>0.0</td>\n",
       "      <td>0.0</td>\n",
       "      <td>40</td>\n",
       "      <td>0</td>\n",
       "      <td>0</td>\n",
       "      <td>1</td>\n",
       "    </tr>\n",
       "    <tr>\n",
       "      <th>2</th>\n",
       "      <td>12488</td>\n",
       "      <td>Mr. Keith Davidson</td>\n",
       "      <td>4214</td>\n",
       "      <td>0.0</td>\n",
       "      <td>0.0</td>\n",
       "      <td>0.0</td>\n",
       "      <td>1.0</td>\n",
       "      <td>0.0</td>\n",
       "      <td>1.0</td>\n",
       "      <td>0.0</td>\n",
       "      <td>...</td>\n",
       "      <td>0.0</td>\n",
       "      <td>0.0</td>\n",
       "      <td>0.0</td>\n",
       "      <td>0.0</td>\n",
       "      <td>1.0</td>\n",
       "      <td>0.0</td>\n",
       "      <td>46</td>\n",
       "      <td>0</td>\n",
       "      <td>2321</td>\n",
       "      <td>1</td>\n",
       "    </tr>\n",
       "  </tbody>\n",
       "</table>\n",
       "<p>3 rows × 99 columns</p>\n",
       "</div>"
      ],
      "text/plain": [
       "   CITIZEN_ID                  Name  Age_days_rel_to_2020  Continent_Africa  \\\n",
       "0       12486       Mr. Adam Glover                  6354               0.0   \n",
       "1       12487  Mr. Cameron McDonald                  5415               0.0   \n",
       "2       12488    Mr. Keith Davidson                  4214               0.0   \n",
       "\n",
       "   Continent_America  Continent_Asia  Continent_Europe  \\\n",
       "0                0.0             0.0               1.0   \n",
       "1                0.0             0.0               1.0   \n",
       "2                0.0             0.0               1.0   \n",
       "\n",
       "   Marital_Status_Divorced  Marital_Status_Married  \\\n",
       "0                      0.0                     1.0   \n",
       "1                      0.0                     1.0   \n",
       "2                      0.0                     1.0   \n",
       "\n",
       "   Marital_Status_Married - Spouse Missing  ...  Role_Management  \\\n",
       "0                                      0.0  ...              0.0   \n",
       "1                                      0.0  ...              0.0   \n",
       "2                                      0.0  ...              0.0   \n",
       "\n",
       "   Role_Other services  Role_Professor  Role_Repair & constructions  \\\n",
       "0                  0.0             0.0                          1.0   \n",
       "1                  0.0             0.0                          1.0   \n",
       "2                  0.0             0.0                          0.0   \n",
       "\n",
       "   Role_Sales  Role_Security  Working Hours per week  Money Received  \\\n",
       "0         0.0            0.0                      40               0   \n",
       "1         0.0            0.0                      40               0   \n",
       "2         1.0            0.0                      46               0   \n",
       "\n",
       "   Ticket Price  Income  \n",
       "0          2273       1  \n",
       "1             0       1  \n",
       "2          2321       1  \n",
       "\n",
       "[3 rows x 99 columns]"
      ]
     },
     "execution_count": 118,
     "metadata": {},
     "output_type": "execute_result"
    }
   ],
   "source": [
    "train_9.head(3)"
   ]
  },
  {
   "cell_type": "code",
   "execution_count": 121,
   "metadata": {},
   "outputs": [],
   "source": [
    "train = train_9"
   ]
  },
  {
   "cell_type": "markdown",
   "metadata": {},
   "source": [
    "## Features Selection"
   ]
  },
  {
   "cell_type": "code",
   "execution_count": 124,
   "metadata": {},
   "outputs": [],
   "source": [
    "data = train.iloc[:,:-1]\n",
    "target = train.iloc[:,-1]"
   ]
  },
  {
   "cell_type": "code",
   "execution_count": null,
   "metadata": {},
   "outputs": [],
   "source": []
  }
 ],
 "metadata": {
  "kernelspec": {
   "display_name": "Python 3",
   "language": "python",
   "name": "python3"
  },
  "language_info": {
   "codemirror_mode": {
    "name": "ipython",
    "version": 3
   },
   "file_extension": ".py",
   "mimetype": "text/x-python",
   "name": "python",
   "nbconvert_exporter": "python",
   "pygments_lexer": "ipython3",
   "version": "3.8.5"
  }
 },
 "nbformat": 4,
 "nbformat_minor": 4
}
